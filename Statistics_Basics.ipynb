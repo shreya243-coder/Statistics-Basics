{
  "nbformat": 4,
  "nbformat_minor": 0,
  "metadata": {
    "colab": {
      "provenance": []
    },
    "kernelspec": {
      "name": "python3",
      "display_name": "Python 3"
    },
    "language_info": {
      "name": "python"
    }
  },
  "cells": [
    {
      "cell_type": "markdown",
      "source": [
        "#Statistics Basics"
      ],
      "metadata": {
        "id": "OT2dE186IRk6"
      }
    },
    {
      "cell_type": "markdown",
      "source": [
        "1. What is statistics, and why is it important?\n",
        "-> Statistics is the branch of mathematics that deals with collecting, analyzing, interpreting, presenting, and organizing data. It provides tools and methodologies for making sense of complex data sets and drawing conclusions from them.\n",
        "\n",
        "Importance of Statistics:\n",
        "\n",
        "i.Supports Informed Decisions: Guides choices based on data.\n",
        "\n",
        "ii.Helps Interpret Data: Reveals patterns and trends.\n",
        "\n",
        "iii.Aids Research: Validates hypotheses in various fields.\n",
        "\n",
        "iv.Ensures Quality: Monitors processes in production.\n",
        "\n",
        "v.Informs Policy: Assists in resource allocation and program evaluation.\n",
        "\n",
        "vi.Guides Market Insights: Understands consumer behavior.\n",
        "\n",
        "vii.Enables Predictions: Forecasts future outcomes using historical data."
      ],
      "metadata": {
        "id": "cttwQmlFIUtx"
      }
    },
    {
      "cell_type": "markdown",
      "source": [
        "2.What are the two main types of statistics?\n",
        "->\n",
        "i.Descriptive Statistics: This type summarizes and describes the characteristics of a data set. It includes measures such as mean, median, mode, standard deviation, and various graphical representations (like charts and histograms). Descriptive statistics provide a way to present data clearly and concisely.\n",
        "\n",
        "ii.Inferential Statistics: This type involves using a sample of data to make inferences or predictions about a larger population. It includes techniques such as hypothesis testing, confidence intervals, and regression analysis. Inferential statistics help draw conclusions and make decisions based on data beyond the immediate observations."
      ],
      "metadata": {
        "id": "gvslW2ftI6_3"
      }
    },
    {
      "cell_type": "markdown",
      "source": [
        "3. What are descriptive statistics?\n",
        "-> Descriptive statistics are methods for summarizing and organizing data to provide a clear overview of its main features. Key components include:\n",
        "\n",
        "i. **Measures of Central Tendency**: Mean, median, and mode, which indicate the average or typical value.\n",
        "ii. **Measures of Dispersion**: Range, variance, and standard deviation, which show how spread out the data is.\n",
        "iii. **Graphs and Charts**: Visual representations like histograms, pie charts, and box plots that illustrate data distributions.\n",
        "\n",
        "Overall, descriptive statistics help present data in a simple and understandable way, making it easier to identify patterns and trends."
      ],
      "metadata": {
        "id": "C674YHQRJOkj"
      }
    },
    {
      "cell_type": "markdown",
      "source": [
        "4. What is inferential statistics?\n",
        "-> Inferential statistics is the branch of statistics that uses a sample of data to make inferences or generalizations about a larger population. Key aspects include:\n",
        "\n",
        "i. **Hypothesis Testing**: Assessing assumptions about a population based on sample data.\n",
        "\n",
        "ii. **Confidence Intervals**: Estimating a range within which a population parameter is likely to fall.\n",
        "\n",
        "iii. **Regression Analysis**: Exploring relationships between variables to make predictions.\n",
        "\n",
        "Inferential statistics allows researchers to draw conclusions and make decisions based on data beyond immediate observations, helping to generalize findings to a broader context."
      ],
      "metadata": {
        "id": "bUW7H9A8JlnU"
      }
    },
    {
      "cell_type": "markdown",
      "source": [
        "5.  What is sampling in statistics?\n",
        "-> Sampling in statistics is the process of selecting a subset of individuals or observations from a larger population to gather data and make inferences about that population. Key points include:\n",
        "\n",
        "i. **Purpose**: To obtain insights about a population without surveying everyone, which is often impractical or costly.\n",
        "\n",
        "ii. **Types of Sampling**:\n",
        "   - **Random Sampling**: Each member of the population has an equal chance of being selected.\n",
        "   - **Stratified Sampling**: The population is divided into subgroups (strata), and samples are drawn from each.\n",
        "   - **Systematic Sampling**: Samples are selected using a fixed interval from a random starting point.\n",
        "\n",
        "iii. **Importance**: Proper sampling techniques help ensure that the sample is representative, reducing bias and improving the reliability of conclusions drawn from the data."
      ],
      "metadata": {
        "id": "lN0pnYq0KaSG"
      }
    },
    {
      "cell_type": "markdown",
      "source": [
        "6.  What are the different types of sampling methods/\n",
        "-> There are several sampling methods in statistics, each with distinct approaches:\n",
        "\n",
        "i. **Random Sampling**: Every individual in the population has an equal chance of being selected, ensuring a representative sample.\n",
        "\n",
        "ii. **Stratified Sampling**: The population is divided into subgroups (strata) based on shared characteristics, and random samples are drawn from each stratum.\n",
        "\n",
        "iii. **Systematic Sampling**: A sample is selected using a fixed interval (e.g., every 10th individual) from a randomly chosen starting point.\n",
        "\n",
        "iv. **Cluster Sampling**: The population is divided into clusters (usually geographically), and entire clusters are randomly selected for the sample.\n",
        "\n",
        "v. **Convenience Sampling**: Samples are taken from a group that is easy to access, which can lead to bias and may not be representative.\n",
        "\n",
        "vi. **Judgmental Sampling**: The researcher uses their judgment to select individuals they believe will provide the most useful information.\n",
        "\n",
        "Each method has its advantages and drawbacks, depending on the research goals and the nature of the population being studied."
      ],
      "metadata": {
        "id": "nfHoV2fAMBC0"
      }
    },
    {
      "cell_type": "markdown",
      "source": [
        "7. What is the difference between random and non-random sampling?\n",
        "-> The key differences between random and non-random sampling are:\n",
        "\n",
        "Random Sampling:\n",
        "- **Definition**: Every individual in the population has an equal chance of being selected.\n",
        "- **Examples**: Simple random sampling, stratified sampling, systematic sampling.\n",
        "- **Advantages**: Reduces bias, enhances the representativeness of the sample, and allows for generalization to the population.\n",
        "\n",
        "Non-Random Sampling:\n",
        "- **Definition**: Not every individual has a chance of being selected; selection is based on non-random criteria.\n",
        "- **Examples**: Convenience sampling, judgmental sampling, quota sampling.\n",
        "- **Advantages**: Easier and quicker to implement, often more cost-effective, but may introduce bias and limit generalizability.\n",
        "\n"
      ],
      "metadata": {
        "id": "GFFrvfxbNdoy"
      }
    },
    {
      "cell_type": "markdown",
      "source": [
        "8. Define and give examples of qualitative and quantitative data.\n",
        "->  Qualitative Data:\n",
        "- **Definition**: Data that describes characteristics or qualities and is non-numeric. It often provides insights into themes, concepts, or categories.\n",
        "- **Examples**:\n",
        "  - **Nominal**: Gender (male, female), colors (red, blue, green).\n",
        "  - **Ordinal**: Satisfaction ratings (satisfied, neutral, dissatisfied), educational levels (high school, bachelor’s, master’s).\n",
        "\n",
        " Quantitative Data:\n",
        "- **Definition**: Data that is numeric and can be measured or counted. It allows for mathematical calculations and statistical analysis.\n",
        "- **Examples**:\n",
        "  - **Discrete**: Number of students in a classroom, number of cars sold.\n",
        "  - **Continuous**: Height (in centimeters), weight (in kilograms), temperature (in degrees).\n",
        "\n"
      ],
      "metadata": {
        "id": "rNk12vmtOTmt"
      }
    },
    {
      "cell_type": "markdown",
      "source": [
        "9.What are the different types of data in statistics?\n",
        "\n",
        "-> In statistics, data can be categorized into several types:\n",
        "\n",
        "i. **Qualitative Data**:\n",
        "   - **Definition**: Non-numeric data that describes qualities or characteristics.\n",
        "   - **Types**:\n",
        "     - **Nominal**: Categories without a specific order (e.g., gender, colors).\n",
        "     - **Ordinal**: Categories with a defined order (e.g., satisfaction levels).\n",
        "\n",
        "ii. **Quantitative Data**:\n",
        "   - **Definition**: Numeric data that can be measured or counted.\n",
        "   - **Types**:\n",
        "     - **Discrete**: Countable values (e.g., number of students, number of cars).\n",
        "     - **Continuous**: Measurable values that can take any value within a range (e.g., height, weight).\n",
        "\n",
        "iii. **Time Series Data**:\n",
        "   - **Definition**: Data collected at different points in time to observe trends (e.g., monthly sales figures).\n",
        "\n",
        "iv. **Cross-Sectional Data**:\n",
        "   - **Definition**: Data collected at a single point in time from multiple subjects (e.g., survey results from various individuals).\n",
        "\n",
        "v. **Primary Data**:\n",
        "   - **Definition**: Data collected firsthand for a specific research purpose (e.g., surveys, experiments).\n",
        "\n",
        "vi. **Secondary Data**:\n",
        "   - **Definition**: Data that has been collected by others for different purposes (e.g., government reports, research articles).\n",
        "\n",
        "These types of data help determine the appropriate statistical methods for analysis and interpretation."
      ],
      "metadata": {
        "id": "angENS69PnRV"
      }
    },
    {
      "cell_type": "markdown",
      "source": [
        "10. Explain nominal, ordinal, interval, and ratio levels of measurement.\n",
        "-> i. Nominal Level:\n",
        "Definition: Data is categorized without a specific order or ranking.\n",
        "\n",
        "Examples: Gender (male, female), types of fruit (apple, orange, banana).\n",
        "\n",
        "ii. Ordinal Level:\n",
        "Definition: Data is categorized with a defined order or ranking, but the differences between ranks are not measurable.\n",
        "\n",
        "Examples: Satisfaction ratings (satisfied, neutral, dissatisfied), education levels (high school, bachelor’s, master’s).\n",
        "\n",
        "iii. Interval Level:\n",
        "Definition: Data is ordered, and the differences between values are meaningful, but there is no true zero point.\n",
        "\n",
        "Examples: Temperature in Celsius or Fahrenheit (20°C is not twice as hot as 10°C).\n",
        "\n",
        "iv. Ratio Level:\n",
        "Definition: Data has a meaningful order, measurable differences, and a true zero point, allowing for comparison of absolute magnitudes.\n",
        "\n",
        "Examples: Height (in centimeters), weight (in kilograms), income (in dollars)."
      ],
      "metadata": {
        "id": "1hLHzvIkRB6o"
      }
    },
    {
      "cell_type": "markdown",
      "source": [
        "11.What is the measure of central tendency?\n",
        "\n",
        "-> The measure of central tendency is a statistical concept that identifies the center or typical value of a data set. The three main measures are:\n",
        "\n",
        "i. **Mean**: The arithmetic average, calculated by summing all values and dividing by the number of observations.\n",
        "\n",
        "ii. **Median**: The middle value when data is ordered from least to greatest. If there's an even number of observations, it is the average of the two middle values.\n",
        "\n",
        "iii. **Mode**: The value that appears most frequently in the data set.\n",
        "\n",
        "These measures help summarize data and provide insights into its distribution and general trends."
      ],
      "metadata": {
        "id": "bvvRln94RmLo"
      }
    },
    {
      "cell_type": "markdown",
      "source": [
        "12.  Define mean, median, and mode.\n",
        "-> Mean:\n",
        "- **Definition**: The arithmetic average of a data set, calculated by summing all values and dividing by the number of observations.\n",
        "- **Example**: For the data set {2, 3, 5}, the mean is (2 + 3 + 5) / 3 = 3.33.\n",
        "\n",
        "Median:\n",
        "- **Definition**: The middle value in an ordered data set. If there’s an even number of observations, it is the average of the two middle values.\n",
        "- **Example**: In the data set {2, 3, 5}, the median is 3. In {2, 3, 4, 5}, the median is (3 + 4) / 2 = 3.5.\n",
        "\n",
        "Mode:\n",
        "- **Definition**: The value that appears most frequently in a data set. A set may have one mode, more than one mode, or no mode at all.\n",
        "- **Example**: In the data set {1, 2, 2, 3, 4}, the mode is 2. In {1, 2, 3}, there is no mode.\n",
        "\n",
        "These measures help describe the central point of a data set in different ways."
      ],
      "metadata": {
        "id": "XYba8U6cSA-v"
      }
    },
    {
      "cell_type": "markdown",
      "source": [
        "13. What is the significance of the measure of central tendency?\n",
        "-> The measure of central tendency is significant because it provides a single value that represents a data set, making it easier to understand and interpret large amounts of data. Its key benefits include:\n",
        "\n",
        "i.Summarization: It condenses complex data into a simpler form, facilitating quick insights.\n",
        "\n",
        "ii.Comparison: Allows for easy comparison between different data sets or groups.\n",
        "\n",
        "iii.Understanding Trends: Helps identify general trends or patterns within the data, informing decision-making.\n",
        "\n",
        "iv.Communication: Provides a clear and concise way to communicate findings and results."
      ],
      "metadata": {
        "id": "kyxA7bu2SusN"
      }
    },
    {
      "cell_type": "markdown",
      "source": [
        "14.  What is variance, and how is it calculated?\n",
        "-> Variance:\n",
        "Variance is a statistical measure that quantifies the dispersion or spread of a data set. It indicates how far individual data points differ from the mean.\n",
        "\n",
        "Calculation:\n",
        "Find the Mean: Calculate the mean (average) of the data set.\n",
        "\n",
        "Subtract the Mean: For each data point, subtract the mean and square the result (to eliminate negative values).\n",
        "\n",
        "Sum the Squares: Add all the squared results together.\n",
        "\n",
        "Divide: Divide the total by the number of observations (for population variance) or by one less than the number of observations (for sample variance).\n",
        "\n"
      ],
      "metadata": {
        "id": "TTvUJQRaTaZ5"
      }
    },
    {
      "cell_type": "markdown",
      "source": [
        "15. What is standard deviation, and why is it important?\n",
        "-> Standard Deviation:\n",
        "Standard deviation is a measure of the amount of variation or dispersion in a data set. It indicates how much data points differ from the mean.\n",
        "\n",
        "Importance:\n",
        "i.Variability Insight: Shows how consistent or spread out data is.\n",
        "\n",
        "ii.Comparison Tool: Helps compare the variability between different data sets.\n",
        "\n",
        "iii.Statistical Analysis: Essential for hypothesis testing and confidence intervals.\n",
        "\n",
        "iv.Practical Applications: Used in fields like finance and quality control for risk assessment."
      ],
      "metadata": {
        "id": "gZ0y8lmiWncH"
      }
    },
    {
      "cell_type": "markdown",
      "source": [
        "16. Define and explain the term range in statistics.\n",
        "-> Range:\n",
        "The range is a measure of variability in a data set that indicates the difference between the highest and lowest values.\n",
        "\n",
        "Calculation:\n",
        "To calculate the range, subtract the minimum value from the maximum value:\n",
        "\n",
        "Range= Max-Min\n",
        "\n",
        " Importance:\n",
        "1. **Simplicity**: It provides a quick snapshot of data dispersion.\n",
        "2. **Data Insights**: Helps identify the spread and potential outliers in the data.\n",
        "3. **Basic Analysis**: Often used in exploratory data analysis to assess variability.\n",
        "\n",
        "In summary, the range is a straightforward measure that gives an overview of how spread out the values in a data set are."
      ],
      "metadata": {
        "id": "iWiSLGzVaerw"
      }
    },
    {
      "cell_type": "markdown",
      "source": [
        "17. What is the difference between variance and standard deviation?\n",
        "-> Difference between Variance and Standard Deviation:\n",
        "\n",
        "i. **Definition**:\n",
        "   - **Variance**: Measures the average of the squared differences from the mean.\n",
        "   - **Standard Deviation**: The square root of the variance.\n",
        "\n",
        "ii. **Units**:\n",
        "   - **Variance**: In squared units (e.g., square meters).\n",
        "   - **Standard Deviation**: In the same units as the data (e.g., meters).\n",
        "\n",
        "iii. **Interpretation**:\n",
        "   - **Variance**: Less intuitive due to squared units.\n",
        "   - **Standard Deviation**: More interpretable and directly related to the data.\n",
        "\n"
      ],
      "metadata": {
        "id": "KVaIBJjca30T"
      }
    },
    {
      "cell_type": "markdown",
      "source": [
        "18.What is skewness in a dataset?\n",
        "-> Skewness is a statistical measure that indicates the asymmetry of the distribution of data in a dataset. It quantifies how much and in what direction a dataset deviates from a normal distribution.\n",
        "\n",
        "i.Positive skewness: The tail on the right side is longer or fatter; the bulk of the data is on the left.\n",
        "\n",
        "ii.Negative skewness: The tail on the left side is longer or fatter; the bulk of the data is on the right.\n",
        "\n",
        "iii.Zero skewness: The data is symmetrically distributed around the mean.\n",
        "\n",
        "Skewness helps in understanding the shape of the data distribution, which can influence statistical analyses and interpretations.\n",
        "\n",
        "\n",
        "\n"
      ],
      "metadata": {
        "id": "nckcjT65dh5i"
      }
    },
    {
      "cell_type": "markdown",
      "source": [
        "19.What does it mean if a dataset is positively or negatively skewed?\n",
        "->\n",
        "If a dataset is:\n",
        "\n",
        "i.Positively skewed: Most data points are clustered on the left, with a long tail extending to the right. This indicates that there are some unusually high values pulling the mean to the right of the median.\n",
        "\n",
        "ii.Negatively skewed: Most data points are clustered on the right, with a long tail extending to the left. This suggests that there are some unusually low values pulling the mean to the left of the median.\n",
        "\n",
        "In both cases, the skewness provides insight into the distribution and potential outliers within the dataset.\n",
        "\n",
        "\n",
        "\n"
      ],
      "metadata": {
        "id": "LJIQ1ftvO-os"
      }
    },
    {
      "cell_type": "markdown",
      "source": [
        "20.Define and explain kurtosis.\n",
        "-> Kurtosis measures the \"tailedness\" of a dataset's distribution:\n",
        "\n",
        "- **Leptokurtic**: High peak and heavy tails (more outliers).\n",
        "- **Platykurtic**: Flat peak and light tails (fewer outliers).\n",
        "- **Mesokurtic**: Similar to a normal distribution (moderate outliers).\n",
        "\n",
        "It indicates the likelihood of extreme values in the data."
      ],
      "metadata": {
        "id": "47XNK5lyPcbb"
      }
    },
    {
      "cell_type": "markdown",
      "source": [
        "21. What is the purpose of covariance/\n",
        "-> Covariance measures the degree to which two variables change together. It indicates the direction of their relationship:\n",
        "\n",
        "- **Positive covariance**: As one variable increases, the other tends to increase.\n",
        "- **Negative covariance**: As one variable increases, the other tends to decrease.\n",
        "- **Zero covariance**: No predictable relationship between the variables.\n",
        "\n",
        "Covariance is useful in statistics and finance for assessing the relationship between different assets or variables."
      ],
      "metadata": {
        "id": "vvTm52SOPwII"
      }
    },
    {
      "cell_type": "markdown",
      "source": [
        "22.  What does correlation measure in statistics/\n",
        "-> Correlation measures the strength and direction of the linear relationship between two variables. It ranges from -1 to +1:\n",
        "\n",
        "- **+1**: Perfect positive correlation (both variables increase together).\n",
        "- **-1**: Perfect negative correlation (one variable increases while the other decreases).\n",
        "- **0**: No correlation (no linear relationship).\n",
        "\n",
        "Correlation helps in understanding how closely two variables are related and is widely used in statistical analysis and data science."
      ],
      "metadata": {
        "id": "B-AzhbvSP_Yc"
      }
    },
    {
      "cell_type": "markdown",
      "source": [
        "23. What is the difference between covariance and correlation?\n",
        "-> **Covariance** measures the directional relationship between two variables but is not standardized, making it unit-dependent. **Correlation** measures both the strength and direction of the linear relationship and is standardized, ranging from -1 to +1. Correlation provides more interpretable insights than covariance."
      ],
      "metadata": {
        "id": "A5diCuFlQM25"
      }
    },
    {
      "cell_type": "markdown",
      "source": [
        "24. What are some real-world applications of statistics?\n",
        "-> Healthcare: Analyzing treatment effectiveness and disease outbreaks.\n",
        "\n",
        "Finance: Risk assessment and market analysis.\n",
        "\n",
        "Marketing: Customer segmentation and campaign evaluation.\n",
        "\n",
        "Sports: Performance analysis and strategy optimization.\n",
        "\n",
        "Education: Evaluating student performance and teaching methods.\n",
        "\n",
        "Quality Control: Monitoring manufacturing processes.\n",
        "\n",
        "Social Sciences: Survey analysis and public policy evaluation.\n",
        "\n",
        "Statistics aids decision-making in diverse fields."
      ],
      "metadata": {
        "id": "ow-VHOPZQbI5"
      }
    },
    {
      "cell_type": "markdown",
      "source": [
        "#Practical questions:"
      ],
      "metadata": {
        "id": "EmgFQ4RqQ9s6"
      }
    },
    {
      "cell_type": "code",
      "source": [
        "#1. Calculate Mean, Median, and Mode.\n",
        "\n",
        "import numpy as np\n",
        "from scipy import stats\n",
        "\n",
        "data = [10, 20, 20, 30, 40, 50]\n",
        "\n",
        "mean_value = np.mean(data)\n",
        "median_value = np.median(data)\n",
        "mode_value = stats.mode(data, keepdims=True)[0][0]\n",
        "\n",
        "print(\"Mean:\", mean_value)\n",
        "\n",
        "print(\"Median:\", median_value)\n",
        "\n",
        "print(\"Mode:\", mode_value)"
      ],
      "metadata": {
        "colab": {
          "base_uri": "https://localhost:8080/"
        },
        "id": "Yy7OQ4wgSw14",
        "outputId": "6cdb6da9-b1e7-4655-ce74-4d5ae4eb58ca"
      },
      "execution_count": null,
      "outputs": [
        {
          "output_type": "stream",
          "name": "stdout",
          "text": [
            "Mean: 28.333333333333332\n",
            "Median: 25.0\n",
            "Mode: 20\n"
          ]
        }
      ]
    },
    {
      "cell_type": "code",
      "source": [
        "#2.Write a Python Program to Compute the Variance and Standard Deviation of a Dataset\n",
        "\n",
        "import numpy as np\n",
        "from scipy import stats\n",
        "\n",
        "data = [100, 200, 207, 309, 405, 502]\n",
        "\n",
        "print(\"Variance:\", np.var(data))\n",
        "\n",
        "print(\"Standard Deviation:\", np.std(data))\n"
      ],
      "metadata": {
        "colab": {
          "base_uri": "https://localhost:8080/"
        },
        "id": "rVCEWQpETXDe",
        "outputId": "b661658d-988e-4b28-abad-bcd52a88109e"
      },
      "execution_count": null,
      "outputs": [
        {
          "output_type": "stream",
          "name": "stdout",
          "text": [
            "Variance: 18261.805555555555\n",
            "Standard Deviation: 135.1362481185398\n"
          ]
        }
      ]
    },
    {
      "cell_type": "code",
      "source": [
        "#3.Create a Dataset and Classify it into Nominal, Ordinal, Interval, and Ratio Types.\n",
        "nominal_data = ['red', 'blue', 'green']\n",
        "ordinal_data = ['low', 'medium', 'high']\n",
        "interval_data = [20, 30, 40]\n",
        "ratio_data = [0, 10, 20]\n",
        "\n",
        "print(\"Nominal:\", nominal_data)\n",
        "print(\"Ordinal:\", ordinal_data)\n",
        "print(\"Interval:\", interval_data)\n",
        "print(\"Ratio:\", ratio_data)\n"
      ],
      "metadata": {
        "colab": {
          "base_uri": "https://localhost:8080/"
        },
        "id": "XMMZiKsgTlJH",
        "outputId": "643a5a31-bfe1-4191-e315-1f5660cdcb0f"
      },
      "execution_count": null,
      "outputs": [
        {
          "output_type": "stream",
          "name": "stdout",
          "text": [
            "Nominal: ['red', 'blue', 'green']\n",
            "Ordinal: ['low', 'medium', 'high']\n",
            "Interval: [20, 30, 40]\n",
            "Ratio: [0, 10, 20]\n"
          ]
        }
      ]
    },
    {
      "cell_type": "code",
      "source": [
        "#4. Implement Sampling Techniques like Random and Stratified Sampling.\n",
        "\n",
        "#random sampling\n",
        "import random\n",
        "\n",
        "population = [1, 2, 3, 4, 5, 6, 7, 8, 9, 10]\n",
        "random_sample = random.sample(population, 4)\n",
        "print(\"Random Sample:\", random_sample)\n"
      ],
      "metadata": {
        "colab": {
          "base_uri": "https://localhost:8080/"
        },
        "id": "ygzb3nniT_l4",
        "outputId": "ef2d56c0-9d38-4982-f09d-d05bca038cbd"
      },
      "execution_count": null,
      "outputs": [
        {
          "output_type": "stream",
          "name": "stdout",
          "text": [
            "Random Sample: [10, 1, 4, 5]\n"
          ]
        }
      ]
    },
    {
      "cell_type": "code",
      "source": [
        "# Stratified Sampling\n",
        "\n",
        "import pandas as pd\n",
        "\n",
        "data = pd.DataFrame({\n",
        "    \"Category\": [\"A\", \"A\", \"B\", \"B\", \"C\", \"C\"],\n",
        "    \"Values\": [1, 2, 3, 4, 5, 6]\n",
        "})\n",
        "\n",
        "stratified_sample = data.groupby(\"Category\", group_keys=False).apply(lambda x: x.sample(1))\n",
        "print(stratified_sample)\n"
      ],
      "metadata": {
        "colab": {
          "base_uri": "https://localhost:8080/"
        },
        "id": "_aWp3DhOUS0P",
        "outputId": "44e9cf70-75d2-4fc8-b006-379e7fc0fd82"
      },
      "execution_count": null,
      "outputs": [
        {
          "output_type": "stream",
          "name": "stdout",
          "text": [
            "  Category  Values\n",
            "1        A       2\n",
            "3        B       4\n",
            "5        C       6\n"
          ]
        },
        {
          "output_type": "stream",
          "name": "stderr",
          "text": [
            "<ipython-input-7-b2a7e2b5f5df>:10: DeprecationWarning: DataFrameGroupBy.apply operated on the grouping columns. This behavior is deprecated, and in a future version of pandas the grouping columns will be excluded from the operation. Either pass `include_groups=False` to exclude the groupings or explicitly select the grouping columns after groupby to silence this warning.\n",
            "  stratified_sample = data.groupby(\"Category\", group_keys=False).apply(lambda x: x.sample(1))\n"
          ]
        }
      ]
    },
    {
      "cell_type": "code",
      "source": [
        "#5.Write a Python Function to Calculate the Range of a Dataset\n",
        "def calculate_range(data):\n",
        "    \"\"\"\n",
        "    Function to calculate the range of a dataset.\n",
        "\n",
        "    Parameters:\n",
        "        data (list): A list of numerical values.\n",
        "\n",
        "    Returns:\n",
        "        int/float: The range of the dataset.\n",
        "    \"\"\"\n",
        "    if not data:\n",
        "        return None\n",
        "\n",
        "    return max(data) - min(data)\n",
        "\n",
        "data = [10, 20, 30, 40, 50]\n",
        "\n",
        "range_value = calculate_range(data)\n",
        "print(\"Range of the dataset:\", range_value)\n",
        "\n"
      ],
      "metadata": {
        "colab": {
          "base_uri": "https://localhost:8080/"
        },
        "id": "5IjmpeyOUXmG",
        "outputId": "49e7c3e5-9113-44d7-94b4-70c16f7abf91"
      },
      "execution_count": null,
      "outputs": [
        {
          "output_type": "stream",
          "name": "stdout",
          "text": [
            "Range of the dataset: 40\n"
          ]
        }
      ]
    },
    {
      "cell_type": "code",
      "source": [
        "#6.Create a Dataset and Plot its Histogram to Visualize Skewness.\n",
        "\n",
        "import matplotlib.pyplot as plt\n",
        "\n",
        "plt.hist(data, bins=5, color='red', edgecolor='black')\n",
        "plt.xlabel(\"Values\")\n",
        "plt.ylabel(\"Frequency\")\n",
        "plt.title(\"Histogram of Dataset\")\n",
        "plt.show()"
      ],
      "metadata": {
        "colab": {
          "base_uri": "https://localhost:8080/",
          "height": 472
        },
        "id": "TrTuAqj5UpLQ",
        "outputId": "78cd6a6b-c3a6-4da0-df9b-8aca7d9b8f04"
      },
      "execution_count": null,
      "outputs": [
        {
          "output_type": "display_data",
          "data": {
            "text/plain": [
              "<Figure size 640x480 with 1 Axes>"
            ],
            "image/png": "[encoded data removed]"
          },
          "metadata": {}
        }
      ]
    },
    {
      "cell_type": "code",
      "source": [
        "#7. Calculate Skewness and Kurtosis of a Dataset using Python.\n",
        "from scipy.stats import skew, kurtosis\n",
        "\n",
        "print(\"Skewness:\", skew(data))\n",
        "print(\"Kurtosis:\", kurtosis(data))"
      ],
      "metadata": {
        "colab": {
          "base_uri": "https://localhost:8080/"
        },
        "id": "SQL_MEyiU4ft",
        "outputId": "8a354c87-f323-4552-913d-0f4a295189c6"
      },
      "execution_count": null,
      "outputs": [
        {
          "output_type": "stream",
          "name": "stdout",
          "text": [
            "Skewness: 0.0\n",
            "Kurtosis: -1.3\n"
          ]
        }
      ]
    },
    {
      "cell_type": "code",
      "source": [
        "#8.Generate a Dataset and Demonstrate Positive and Negative Skewness.\n",
        "# Positive Skew\n",
        "positively_skewed = [1, 2, 2, 3, 3, 4, 10, 20]\n",
        "print(\"Positive Skewness:\", skew(positively_skewed))\n"
      ],
      "metadata": {
        "colab": {
          "base_uri": "https://localhost:8080/"
        },
        "id": "VmmWipZ8U-QI",
        "outputId": "154065d1-416d-41d3-9d26-d9aa3480d000"
      },
      "execution_count": null,
      "outputs": [
        {
          "output_type": "stream",
          "name": "stdout",
          "text": [
            "Positive Skewness: 1.6158675646743965\n"
          ]
        }
      ]
    },
    {
      "cell_type": "code",
      "source": [
        "# Negative Skew\n",
        "negatively_skewed = [10, 20, 4, 3, 3, 2, 2, 1]\n",
        "print(\"Negative Skewness:\", skew(negatively_skewed))"
      ],
      "metadata": {
        "colab": {
          "base_uri": "https://localhost:8080/"
        },
        "id": "Yiz-fpbxVH_f",
        "outputId": "1dd80612-0ae9-4d55-9e32-b5fc44aa0a9a"
      },
      "execution_count": null,
      "outputs": [
        {
          "output_type": "stream",
          "name": "stdout",
          "text": [
            "Negative Skewness: 1.6158675646743965\n"
          ]
        }
      ]
    },
    {
      "cell_type": "code",
      "source": [
        "#9.Write a Python Script to Calculate Covariance Between Two Datasets.\n",
        "x = [1, 2, 3, 4, 5]\n",
        "y = [2, 4, 6, 8, 10]\n",
        "\n",
        "cov_matrix = np.cov(x, y)\n",
        "print(\"Covariance:\", cov_matrix[0, 1])"
      ],
      "metadata": {
        "colab": {
          "base_uri": "https://localhost:8080/"
        },
        "id": "SV2JK4YOVOii",
        "outputId": "96cf259e-328b-4939-faa3-03606721bc8a"
      },
      "execution_count": null,
      "outputs": [
        {
          "output_type": "stream",
          "name": "stdout",
          "text": [
            "Covariance: 5.0\n"
          ]
        }
      ]
    },
    {
      "cell_type": "code",
      "source": [
        "#10.Write a Python Script to Calculate the Correlation Coefficient Between Two Datasets\n",
        "correlation_coefficient = np.corrcoef(x, y)[0, 1]\n",
        "print(\"Correlation Coefficient:\", correlation_coefficient)\n"
      ],
      "metadata": {
        "colab": {
          "base_uri": "https://localhost:8080/"
        },
        "id": "8K4USYFVVUZg",
        "outputId": "4336dde3-1603-4dd6-e5ab-10be2050ac30"
      },
      "execution_count": null,
      "outputs": [
        {
          "output_type": "stream",
          "name": "stdout",
          "text": [
            "Correlation Coefficient: 0.9999999999999999\n"
          ]
        }
      ]
    },
    {
      "cell_type": "code",
      "source": [
        "#11. Create a Scatter Plot to Visualize the Relationship Between Two Variables\n",
        "plt.scatter(x, y, color='red')\n",
        "plt.xlabel(\"Time\")\n",
        "plt.ylabel(\"Velocity\")\n",
        "plt.title(\"Scatter Plot of Velocity and Time\")\n",
        "plt.show()\n",
        "\n"
      ],
      "metadata": {
        "colab": {
          "base_uri": "https://localhost:8080/",
          "height": 472
        },
        "id": "lQQw8JrCVnsT",
        "outputId": "fdf27179-281f-418d-8431-88c75d05ea2a"
      },
      "execution_count": null,
      "outputs": [
        {
          "output_type": "display_data",
          "data": {
            "text/plain": [
              "<Figure size 640x480 with 1 Axes>"
            ],
            "image/png": "[encoded data removed]"
          },
          "metadata": {}
        }
      ]
    },
    {
      "cell_type": "code",
      "source": [
        "#12.Implement and Compare Simple Random Sampling and Systematic Sampling\n",
        "\n",
        "# Simple Random Sampling\n",
        "\n",
        "random_sample = random.sample(population, 4)\n",
        "print(\"Simple Random Sample:\", random_sample)\n"
      ],
      "metadata": {
        "colab": {
          "base_uri": "https://localhost:8080/"
        },
        "id": "y72sBfrxVyaQ",
        "outputId": "c28cf354-29c9-4147-e158-b1ea17922f7d"
      },
      "execution_count": null,
      "outputs": [
        {
          "output_type": "stream",
          "name": "stdout",
          "text": [
            "Simple Random Sample: [9, 10, 2, 8]\n"
          ]
        }
      ]
    },
    {
      "cell_type": "code",
      "source": [
        "# Systematic Sampling\n",
        "\n",
        "def systematic_sampling(population, step):\n",
        "    return [population[i] for i in range(0, len(population), step)]\n",
        "\n",
        "print(\"Systematic Sample:\", systematic_sampling(population, 4))\n"
      ],
      "metadata": {
        "colab": {
          "base_uri": "https://localhost:8080/"
        },
        "id": "jYq0HtesV8GQ",
        "outputId": "b9ff0d7b-6aee-4ed0-f51b-d3a233834746"
      },
      "execution_count": null,
      "outputs": [
        {
          "output_type": "stream",
          "name": "stdout",
          "text": [
            "Systematic Sample: [1, 5, 9]\n"
          ]
        }
      ]
    },
    {
      "cell_type": "code",
      "source": [
        "#13. Calculate the Mean, Median, and Mode of Grouped Data.\n",
        "grouped_data = {\n",
        "    \"Intervals\": [\"0-10\", \"10-20\", \"20-30\"],\n",
        "    \"Frequency\": [5, 15, 10]\n",
        "}\n",
        "\n",
        "mean_grouped = (5*5 + 15*15 + 10*25) / (5+15+10)\n",
        "print(\"Grouped Mean:\", mean_grouped)\n",
        "\n"
      ],
      "metadata": {
        "colab": {
          "base_uri": "https://localhost:8080/"
        },
        "id": "YnT3MArLWL3a",
        "outputId": "622a4b80-e99d-4e1c-9ff5-c653e29cfe6a"
      },
      "execution_count": null,
      "outputs": [
        {
          "output_type": "stream",
          "name": "stdout",
          "text": [
            "Grouped Mean: 16.666666666666668\n"
          ]
        }
      ]
    },
    {
      "cell_type": "code",
      "source": [
        "#14.Simulate Data Using Python and Calculate Its Central Tendency and Dispersion.\n",
        "simulated_data = np.random.randint(1, 100, 20)\n",
        "\n",
        "print(\"Simulated Data:\", simulated_data)\n",
        "print(\"Mean:\", np.mean(simulated_data))\n",
        "print(\"Median:\", np.median(simulated_data))\n",
        "print(\"Standard Deviation:\", np.std(simulated_data))\n"
      ],
      "metadata": {
        "colab": {
          "base_uri": "https://localhost:8080/"
        },
        "id": "McqhQOM5WipG",
        "outputId": "b0810c6b-d267-4b6e-aee8-a4a86475145d"
      },
      "execution_count": null,
      "outputs": [
        {
          "output_type": "stream",
          "name": "stdout",
          "text": [
            "Simulated Data: [21 92 39 53 99 49 57 69  3 79 43 39 28 57 18 91 72 72  8  3]\n",
            "Mean: 49.6\n",
            "Median: 51.0\n",
            "Standard Deviation: 29.105669550793706\n"
          ]
        }
      ]
    },
    {
      "cell_type": "code",
      "source": [
        "#15.Use NumPy or Pandas to Summarize a Dataset’s Descriptive Statistics.\n",
        "df = pd.DataFrame({'Data': simulated_data})\n",
        "print(df.describe())\n",
        "\n"
      ],
      "metadata": {
        "id": "KYd8l8mUWor-",
        "colab": {
          "base_uri": "https://localhost:8080/"
        },
        "outputId": "aa74a2bf-e374-4df6-c50b-0811bb3630fe"
      },
      "execution_count": 20,
      "outputs": [
        {
          "output_type": "stream",
          "name": "stdout",
          "text": [
            "            Data\n",
            "count  20.000000\n",
            "mean   49.600000\n",
            "std    29.861787\n",
            "min     3.000000\n",
            "25%    26.250000\n",
            "50%    51.000000\n",
            "75%    72.000000\n",
            "max    99.000000\n"
          ]
        }
      ]
    },
    {
      "cell_type": "code",
      "source": [
        "#16.Plot a Boxplot to Understand the Spread and Identify Outliers.\n",
        "import numpy as np\n",
        "import seaborn as sns\n",
        "import matplotlib.pyplot as plt\n",
        "\n",
        "simulated_data = np.random.randint(1, 100, 20)\n",
        "\n",
        "sns.boxplot(data=simulated_data)\n",
        "\n",
        "plt.title(\"Boxplot of Simulated Data\")\n",
        "plt.show()\n"
      ],
      "metadata": {
        "colab": {
          "base_uri": "https://localhost:8080/",
          "height": 435
        },
        "id": "Uwho2JGTW6pz",
        "outputId": "4717b191-0433-440f-8831-604ece9a5a15"
      },
      "execution_count": 21,
      "outputs": [
        {
          "output_type": "display_data",
          "data": {
            "text/plain": [
              "<Figure size 640x480 with 1 Axes>"
            ],
            "image/png": "[encoded data removed]"
          },
          "metadata": {}
        }
      ]
    },
    {
      "cell_type": "code",
      "source": [
        "#17.Calculate the Interquartile Range (IQR) of a Dataset\n",
        "\n",
        "Q1 = np.percentile(data, 25)\n",
        "Q3 = np.percentile(data, 75)\n",
        "IQR = Q3 - Q1\n",
        "\n",
        "print(\"Interquartile Range (IQR):\", IQR)\n"
      ],
      "metadata": {
        "colab": {
          "base_uri": "https://localhost:8080/"
        },
        "id": "eIPW2zH_XTFg",
        "outputId": "131a920c-8aad-405b-9aee-c4a6d42a895f"
      },
      "execution_count": 22,
      "outputs": [
        {
          "output_type": "stream",
          "name": "stdout",
          "text": [
            "Interquartile Range (IQR): 20.0\n"
          ]
        }
      ]
    },
    {
      "cell_type": "code",
      "source": [
        "#18.Implement Z-score Normalization and Explain Its Significance.\n",
        "\n",
        "from scipy.stats import zscore\n",
        "\n",
        "z_scores = zscore(data)\n",
        "print(\"Z-scores:\", z_scores)"
      ],
      "metadata": {
        "colab": {
          "base_uri": "https://localhost:8080/"
        },
        "id": "Hm_SySy1XYrf",
        "outputId": "e4f4a634-732c-45fb-c112-a73db6df37f2"
      },
      "execution_count": 23,
      "outputs": [
        {
          "output_type": "stream",
          "name": "stdout",
          "text": [
            "Z-scores: [-1.41421356 -0.70710678  0.          0.70710678  1.41421356]\n"
          ]
        }
      ]
    },
    {
      "cell_type": "code",
      "source": [
        "#19.Compare Two Datasets Using Their Standard Deviations.\n",
        "dataset1 = np.random.randint(1, 100, 10)\n",
        "dataset2 = np.random.randint(1, 100, 10)\n",
        "\n",
        "print(\"Standard Deviation of Dataset 1:\", np.std(dataset1))\n",
        "print(\"Standard Deviation of Dataset 2:\", np.std(dataset2))"
      ],
      "metadata": {
        "colab": {
          "base_uri": "https://localhost:8080/"
        },
        "id": "3kyFI6IHXin8",
        "outputId": "ba3f0efc-6ef9-42b7-bb6b-2b99dd823e5c"
      },
      "execution_count": 24,
      "outputs": [
        {
          "output_type": "stream",
          "name": "stdout",
          "text": [
            "Standard Deviation of Dataset 1: 23.238115241989828\n",
            "Standard Deviation of Dataset 2: 27.730128019899222\n"
          ]
        }
      ]
    },
    {
      "cell_type": "code",
      "source": [
        "#20. Write a Python Program to Visualize Covariance Using a Heatmap.\n",
        "import seaborn as sns\n",
        "\n",
        "data_matrix = np.array([x, y])\n",
        "sns.heatmap(np.cov(data_matrix), annot=True)\n",
        "plt.show()\n"
      ],
      "metadata": {
        "colab": {
          "base_uri": "https://localhost:8080/",
          "height": 435
        },
        "id": "UY5U7QzFXvwx",
        "outputId": "4e83ac97-c36e-4b95-8232-416955b0310d"
      },
      "execution_count": 25,
      "outputs": [
        {
          "output_type": "display_data",
          "data": {
            "text/plain": [
              "<Figure size 640x480 with 2 Axes>"
            ],
            "image/png": "[encoded data removed]"
          },
          "metadata": {}
        }
      ]
    },
    {
      "cell_type": "code",
      "source": [
        "#21. Use Seaborn to Create a Correlation Matrix for a Dataset.\n",
        "import seaborn as sns\n",
        "\n",
        "df = pd.DataFrame({'X': x, 'Y': y})\n",
        "sns.heatmap(df.corr(), annot=True)\n",
        "plt.show()\n"
      ],
      "metadata": {
        "colab": {
          "base_uri": "https://localhost:8080/",
          "height": 435
        },
        "id": "4SeI6-AqX7H0",
        "outputId": "c2d600d1-7bfc-4fd3-c14e-82b1386025c9"
      },
      "execution_count": 26,
      "outputs": [
        {
          "output_type": "display_data",
          "data": {
            "text/plain": [
              "<Figure size 640x480 with 2 Axes>"
            ],
            "image/png": "[encoded data removed]"
          },
          "metadata": {}
        }
      ]
    },
    {
      "cell_type": "code",
      "source": [
        "#22. Generate a dataset and implement both variance and standard deviation computations.\n",
        "import numpy as np\n",
        "\n",
        "# Step 1: Generate a random dataset\n",
        "dataset = np.random.randint(1, 100, 20)  # 20 random numbers between 1 and 100\n",
        "print(\"Dataset:\", dataset)\n",
        "\n",
        "# Step 2: Compute variance and standard deviation\n",
        "variance = np.var(dataset)  # Population variance\n",
        "std_dev = np.std(dataset)  # Population standard deviation\n",
        "\n",
        "# Display the results\n",
        "print(\"Variance of the dataset:\", variance)\n",
        "print(\"Standard Deviation of the dataset:\", std_dev)\n",
        "\n"
      ],
      "metadata": {
        "colab": {
          "base_uri": "https://localhost:8080/"
        },
        "id": "VnNHTJoZYF-_",
        "outputId": "30844a9a-b2aa-4035-b15e-7a7088a3ce41"
      },
      "execution_count": 27,
      "outputs": [
        {
          "output_type": "stream",
          "name": "stdout",
          "text": [
            "Dataset: [12 93 97 17 43 72 18 27 60 88  4 10 64 56 13 82 33  8 25 61]\n",
            "Variance of the dataset: 933.8274999999998\n",
            "Standard Deviation of the dataset: 30.558591263341963\n"
          ]
        }
      ]
    },
    {
      "cell_type": "code",
      "source": [
        "#23. Visualize Skewness and Kurtosis Using Matplotlib or Seaborn.\n",
        "sns.histplot(data, kde=True)\n",
        "plt.show()\n"
      ],
      "metadata": {
        "colab": {
          "base_uri": "https://localhost:8080/",
          "height": 430
        },
        "id": "gvBFI6lxYP6h",
        "outputId": "8a82debc-44a2-4d9f-e0b6-59b49bc2ac7f"
      },
      "execution_count": 28,
      "outputs": [
        {
          "output_type": "display_data",
          "data": {
            "text/plain": [
              "<Figure size 640x480 with 1 Axes>"
            ],
            "image/png": "[encoded data removed]"
          },
          "metadata": {}
        }
      ]
    },
    {
      "cell_type": "code",
      "source": [
        "#24. Implement the Pearson and Spearman Correlation Coefficients for a Dataset.\n",
        "\n",
        "from scipy.stats import pearsonr, spearmanr\n",
        "\n",
        "print(\"Pearson Correlation:\", pearsonr(x, y)[0])\n",
        "print(\"Spearman Correlation:\", spearmanr(x, y)[0])"
      ],
      "metadata": {
        "colab": {
          "base_uri": "https://localhost:8080/"
        },
        "id": "yam4GYZsYa47",
        "outputId": "3213f8cf-59d8-424f-d962-470ef6190cf5"
      },
      "execution_count": 29,
      "outputs": [
        {
          "output_type": "stream",
          "name": "stdout",
          "text": [
            "Pearson Correlation: 1.0\n",
            "Spearman Correlation: 0.9999999999999999\n"
          ]
        }
      ]
    }
  ]
}